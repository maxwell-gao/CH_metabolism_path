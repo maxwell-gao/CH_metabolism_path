{
 "cells": [
  {
   "cell_type": "markdown",
   "metadata": {},
   "source": [
    "# The Flux figure"
   ]
  },
  {
   "cell_type": "code",
   "execution_count": 2,
   "metadata": {},
   "outputs": [],
   "source": [
    "import escher\n",
    "from escher import Builder\n",
    "import cobra\n",
    "from time import sleep\n",
    "escher.rc['never_ask_before_quit'] = True"
   ]
  },
  {
   "cell_type": "code",
   "execution_count": 15,
   "metadata": {},
   "outputs": [
    {
     "name": "stdout",
     "output_type": "stream",
     "text": [
      "Downloading Map from https://escher.github.io/1-0-0/6/maps/Escherichia%20coli/e_coli_core.Core%20metabolism.json\n",
      "Downloading Model from https://escher.github.io/1-0-0/6/models/Escherichia%20coli/e_coli_core.json\n"
     ]
    },
    {
     "data": {
      "application/vnd.jupyter.widget-view+json": {
       "model_id": "989654de46da4c4e882722b91d4af8a4",
       "version_major": 2,
       "version_minor": 0
      },
      "text/plain": [
       "Builder(never_ask_before_quit=True)"
      ]
     },
     "metadata": {},
     "output_type": "display_data"
    }
   ],
   "source": [
    "Core = Builder(\n",
    "    map_name='e_coli_core.Core metabolism',\n",
    "    model_name='e_coli_core',\n",
    ")\n",
    "Core"
   ]
  },
  {
   "cell_type": "code",
   "execution_count": 17,
   "metadata": {},
   "outputs": [
    {
     "name": "stderr",
     "output_type": "stream",
     "text": [
      "/usr/local/lib/python3.8/dist-packages/cobra/util/solver.py:508: UserWarning: Solver status is 'infeasible'.\n",
      "  warn(f\"Solver status is '{status}'.\", UserWarning)\n"
     ]
    },
    {
     "ename": "KeyboardInterrupt",
     "evalue": "",
     "output_type": "error",
     "traceback": [
      "\u001b[0;31m---------------------------------------------------------------------------\u001b[0m",
      "\u001b[0;31mKeyboardInterrupt\u001b[0m                         Traceback (most recent call last)",
      "\u001b[0;32m<ipython-input-17-6e58b323f6ec>\u001b[0m in \u001b[0;36m<module>\u001b[0;34m\u001b[0m\n\u001b[1;32m     18\u001b[0m     \u001b[0;32melse\u001b[0m\u001b[0;34m:\u001b[0m\u001b[0;34m\u001b[0m\u001b[0;34m\u001b[0m\u001b[0m\n\u001b[1;32m     19\u001b[0m         \u001b[0mval\u001b[0m \u001b[0;34m-=\u001b[0m \u001b[0mstep\u001b[0m\u001b[0;34m\u001b[0m\u001b[0;34m\u001b[0m\u001b[0m\n\u001b[0;32m---> 20\u001b[0;31m     \u001b[0msleep\u001b[0m\u001b[0;34m(\u001b[0m\u001b[0mtimestep\u001b[0m\u001b[0;34m)\u001b[0m\u001b[0;34m\u001b[0m\u001b[0;34m\u001b[0m\u001b[0m\n\u001b[0m",
      "\u001b[0;31mKeyboardInterrupt\u001b[0m: "
     ]
    }
   ],
   "source": [
    "model = cobra.io.load_json_model('e_coli_core.json')\n",
    "reverse = True\n",
    "step = 0.1\n",
    "timestep = 0.1\n",
    "duration = 1500 # seconds\n",
    "lim = [0, 0.5]\n",
    "val = lim[-1]\n",
    "for _ in range(int(duration / timestep)):\n",
    "    model.reactions.EX_o2_e.lower_bound = -val\n",
    "    solution = model.optimize()\n",
    "    Core.reaction_data = solution.fluxes\n",
    "    if val <= lim[0]:\n",
    "        reverse = True\n",
    "    if val >= lim[1]:\n",
    "        reverse = False\n",
    "    if reverse:\n",
    "        val += step\n",
    "    else:\n",
    "        val -= step\n",
    "    sleep(timestep)"
   ]
  },
  {
   "cell_type": "code",
   "execution_count": 3,
   "metadata": {},
   "outputs": [],
   "source": [
    "Core.save_html(\"Core.html\")"
   ]
  },
  {
   "cell_type": "code",
   "execution_count": 21,
   "metadata": {},
   "outputs": [
    {
     "name": "stdout",
     "output_type": "stream",
     "text": [
      "Downloading Map from https://escher.github.io/1-0-0/6/maps/Homo%20sapiens/RECON1.Carbohydrate%20metabolism.json\n"
     ]
    }
   ],
   "source": [
    "CarbonMeta =  Builder(\n",
    "    model_json=\"Recon3D.json\",\n",
    "    map_name= 'RECON1.Carbohydrate metabolism'\n",
    ")\n",
    "CarbonMeta.save_html(\"CarbonMeta.html\")"
   ]
  },
  {
   "cell_type": "code",
   "execution_count": null,
   "metadata": {},
   "outputs": [],
   "source": [
    "CarbonMeta.save_html(\"CarbonMeta.html\")"
   ]
  },
  {
   "cell_type": "code",
   "execution_count": null,
   "metadata": {},
   "outputs": [],
   "source": [
    "model = cobra.io.load_json_model('Recon3D.json')\n",
    "reverse = True\n",
    "step = 0.1\n",
    "timestep = 0.1\n",
    "duration = 1500 # seconds\n",
    "lim = [0, 0.5]\n",
    "val = lim[-1]\n",
    "for _ in range(int(duration / timestep)):\n",
    "    model.reactions.EX_o2_e.lower_bound = -val\n",
    "    solution = model.optimize()\n",
    "    EMP_TCA_PPP.reaction_data = solution.fluxes\n",
    "    if val <= lim[0]:\n",
    "        reverse = True\n",
    "    if val >= lim[1]:\n",
    "        reverse = False\n",
    "    if reverse:\n",
    "        val += step\n",
    "    else:\n",
    "        val -= step\n",
    "    sleep(timestep)"
   ]
  },
  {
   "cell_type": "code",
   "execution_count": 5,
   "metadata": {},
   "outputs": [
    {
     "name": "stdout",
     "output_type": "stream",
     "text": [
      "Downloading Map from https://escher.github.io/1-0-0/6/maps/Escherichia%20coli/iJO1366.Fatty%20acid%20beta-oxidation.json\n",
      "Downloading Model from https://escher.github.io/1-0-0/6/models/Saccharomyces%20cerevisiae/iMM904.json\n"
     ]
    }
   ],
   "source": [
    "FattyAcid = Builder(\n",
    "    model_name='iMM904',\n",
    "    map_name= 'iJO1366.Fatty acid beta-oxidation',\n",
    "    )\n",
    "FattyAcid.save_html(\"FattyAcid.html\")"
   ]
  },
  {
   "cell_type": "code",
   "execution_count": 25,
   "metadata": {},
   "outputs": [
    {
     "data": {
      "application/vnd.jupyter.widget-view+json": {
       "model_id": "fb6253a58985495abc6a5b10b5dbcad5",
       "version_major": 2,
       "version_minor": 0
      },
      "text/plain": [
       "Builder(never_ask_before_quit=True)"
      ]
     },
     "metadata": {},
     "output_type": "display_data"
    }
   ],
   "source": [
    "FattyAcid"
   ]
  },
  {
   "cell_type": "code",
   "execution_count": null,
   "metadata": {},
   "outputs": [],
   "source": [
    "FattyAcid.save_html(\"FattyAcid.html\")"
   ]
  },
  {
   "cell_type": "code",
   "execution_count": 34,
   "metadata": {},
   "outputs": [
    {
     "name": "stdout",
     "output_type": "stream",
     "text": [
      "Downloading Map from https://escher.github.io/1-0-0/6/maps/Homo%20sapiens/RECON1.Glycolysis%20TCA%20PPP.json\n"
     ]
    }
   ],
   "source": [
    "EMP_TCA_PPP = Builder (map_name= 'RECON1.Glycolysis TCA PPP')"
   ]
  },
  {
   "cell_type": "code",
   "execution_count": 35,
   "metadata": {},
   "outputs": [
    {
     "data": {
      "application/vnd.jupyter.widget-view+json": {
       "model_id": "0ee7bc1410694664ac2fc13a1ac32215",
       "version_major": 2,
       "version_minor": 0
      },
      "text/plain": [
       "Builder(never_ask_before_quit=True)"
      ]
     },
     "metadata": {},
     "output_type": "display_data"
    }
   ],
   "source": [
    "EMP_TCA_PPP"
   ]
  },
  {
   "cell_type": "code",
   "execution_count": null,
   "metadata": {},
   "outputs": [],
   "source": [
    "EMP_TCA_PPP.save_html(\"EMP_TCA_PPP.html\")"
   ]
  },
  {
   "cell_type": "code",
   "execution_count": 10,
   "metadata": {},
   "outputs": [
    {
     "name": "stdout",
     "output_type": "stream",
     "text": [
      "Downloading Map from https://escher.github.io/1-0-0/6/maps/Homo%20sapiens/RECON1.Amino%20acid%20metabolism%20%28partial%29.json\n"
     ]
    }
   ],
   "source": [
    "AA = Builder(map_name= 'RECON1.Amino acid metabolism (partial)')\n",
    "AA.save_html(\"AA.html\")"
   ]
  },
  {
   "cell_type": "code",
   "execution_count": null,
   "metadata": {},
   "outputs": [],
   "source": [
    "AA"
   ]
  },
  {
   "cell_type": "code",
   "execution_count": 11,
   "metadata": {},
   "outputs": [
    {
     "name": "stdout",
     "output_type": "stream",
     "text": [
      "Downloading Map from https://escher.github.io/1-0-0/6/maps/Escherichia%20coli/iJO1366.Nucleotide%20and%20histidine%20biosynthesis.json\n"
     ]
    }
   ],
   "source": [
    "Nucleotide = Builder(map_name= 'iJO1366.Nucleotide and histidine biosynthesis')\n",
    "Nucleotide.save_html(\"Nucleotide.html\")"
   ]
  },
  {
   "cell_type": "code",
   "execution_count": 14,
   "metadata": {},
   "outputs": [
    {
     "name": "stdout",
     "output_type": "stream",
     "text": [
      "Downloading Map from https://escher.github.io/1-0-0/6/maps/Escherichia%20coli/iJO1366.Fatty%20acid%20biosynthesis%20%28saturated%29.json\n"
     ]
    }
   ],
   "source": [
    "FAS = Builder(map_name= 'iJO1366.Fatty acid biosynthesis (saturated)')\n",
    "FAS.save_html(\"FAS.html\")"
   ]
  },
  {
   "cell_type": "code",
   "execution_count": null,
   "metadata": {},
   "outputs": [],
   "source": []
  }
 ],
 "metadata": {
  "kernelspec": {
   "display_name": "Python 3",
   "language": "python",
   "name": "python3"
  },
  "language_info": {
   "codemirror_mode": {
    "name": "ipython",
    "version": 3
   },
   "file_extension": ".py",
   "mimetype": "text/x-python",
   "name": "python",
   "nbconvert_exporter": "python",
   "pygments_lexer": "ipython3",
   "version": "3.8.5"
  }
 },
 "nbformat": 4,
 "nbformat_minor": 4
}
